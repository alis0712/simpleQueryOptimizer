{
 "cells": [
  {
   "cell_type": "markdown",
   "id": "ea48667a",
   "metadata": {},
   "source": [
    "# Syed \n",
    "\n",
    "# COSC 631 Database Information Systems II\n",
    "\n",
    "# Query Optimizer"
   ]
  },
  {
   "cell_type": "markdown",
   "id": "06d61f69",
   "metadata": {},
   "source": [
    "# Generation of a General Query Tree"
   ]
  },
  {
   "cell_type": "code",
   "execution_count": 2,
   "id": "efff9068",
   "metadata": {},
   "outputs": [],
   "source": [
    "import operator\n",
    "import itertools\n",
    "import sqlparse\n",
    "import re\n",
    "import tkinter as tk\n",
    "from anytree import Node, RenderTree \n",
    "from pprint import pprint"
   ]
  },
  {
   "cell_type": "markdown",
   "id": "4bf6d5f6",
   "metadata": {},
   "source": [
    "# Creating an query execution plan for non-optimized queries"
   ]
  },
  {
   "cell_type": "code",
   "execution_count": 3,
   "id": "cbb8f4d9",
   "metadata": {},
   "outputs": [],
   "source": [
    "def generate_non_optimized_query_execution_plan(sql_statement): \n",
    "    #parse through the SQL statement\n",
    "    parsed_sql = sqlparse.parse(sql_statement)[0]\n",
    "    \n",
    "    #define a list of keywords in the order of their execution\n",
    "    keyword_order = ['SELECT', 'FROM', 'WHERE']\n",
    "    \n",
    "    #initialize a list to hold the SQL operations\n",
    "    operations = {}\n",
    "    \n",
    "    #Split the SQL statement into tokens \n",
    "    tokens = sql_statement.split()\n",
    "    \n",
    "    \n",
    "#     #iterate over the tokens in the parsed SQL\n",
    "#     for item in parsed_sql.tokens:\n",
    "#         # if the token is a keyword, add it to the operations list\n",
    "#         if item.ttype is not None and item.value.upper() in keyword_order:\n",
    "#             operation_type = item.value.strip()\n",
    "#             operations[operation_type] = Node(operation_type)\n",
    "            \n",
    "#             #Set the parent of the operation node to the previous operation\n",
    "#             if len(operations) > 1:\n",
    "#                 prev_operation_type = list(operations.keys())[-2]\n",
    "#                 operations[operation_type].parent = operations[prev_operation_type]\n",
    "#     #iterate over the tokens again to add the remaining operations to the dictionary\n",
    "#     for item in parsed_sql.tokens:\n",
    "#         if item.ttype is not None and item.value.upper() not in keyword_order:\n",
    "#             node_value = item.value.strip()\n",
    "#             node_type = item.ttype[0]\n",
    "#             node = Node(f\"{node_value} ({node_type})\", parent=operations[list(operations.keys())[-1]])\n",
    "    \n",
    "    \n",
    "    #Iterate over the tokens in the parsed SQL\n",
    "    for item in tokens:\n",
    "        #If the token is a keyword, add it operations dictionary\n",
    "        if item.upper() in keyword_order:\n",
    "            operation_type = item.strip()\n",
    "            operations[operation_type] = Node(operation_type)\n",
    "            \n",
    "            #Set the parent of the operation node to the previous operation\n",
    "            if len(operations) > 1:\n",
    "                prev_operation_type = list(operations.keys())[-2]\n",
    "                operations[operation_type].parent = operations[prev_operation_type]\n",
    "        \n",
    "        #if the token is not a keyword, add it as a child of the last operation\n",
    "        else:\n",
    "            node_value = item.strip()\n",
    "            node_type = \"Name\"\n",
    "            node = Node(f\"{node_value} ({node_type})\", parent=operations[list(operations.keys())[-1]])\n",
    "            \n",
    "    #return the tree\n",
    "    return RenderTree(operations['SELECT'])"
   ]
  },
  {
   "cell_type": "markdown",
   "id": "66a69866",
   "metadata": {},
   "source": [
    "# Example 1"
   ]
  },
  {
   "cell_type": "code",
   "execution_count": 4,
   "id": "ad772ea1",
   "metadata": {},
   "outputs": [
    {
     "name": "stdout",
     "output_type": "stream",
     "text": [
      "SELECT\n",
      "├── EMPLOYEE.EMPNO, (Name)\n",
      "├── POSITION (Name)\n",
      "└── FROM\n",
      "    ├── EMPLOYEE (Name)\n",
      "    ├── E, (Name)\n",
      "    ├── JOBHISTORY (Name)\n",
      "    ├── J (Name)\n",
      "    └── WHERE\n",
      "        ├── E.EMPNO (Name)\n",
      "        ├── = (Name)\n",
      "        ├── J.EMPNO (Name)\n",
      "        ├── AND (Name)\n",
      "        ├── STARTDATE (Name)\n",
      "        ├── <= (Name)\n",
      "        ├── ENDDATE (Name)\n",
      "        ├── AND (Name)\n",
      "        ├── SALARY (Name)\n",
      "        ├── <= (Name)\n",
      "        └── 3000 (Name)\n"
     ]
    }
   ],
   "source": [
    "sql_statement = \"SELECT EMPLOYEE.EMPNO, POSITION FROM EMPLOYEE E, JOBHISTORY J WHERE E.EMPNO = J.EMPNO AND STARTDATE <= ENDDATE AND SALARY <= 3000\"\n",
    "tree = generate_non_optimized_query_execution_plan(sql_statement)\n",
    "for pre, fill, node in tree:\n",
    "    print(f\"{pre}{node.name}\")"
   ]
  },
  {
   "cell_type": "markdown",
   "id": "60a9ff8f",
   "metadata": {},
   "source": [
    "# Example 2"
   ]
  },
  {
   "cell_type": "code",
   "execution_count": 5,
   "id": "16c3c4f2",
   "metadata": {},
   "outputs": [
    {
     "name": "stdout",
     "output_type": "stream",
     "text": [
      "SELECT\n",
      "├── LName, (Name)\n",
      "├── FName, (Name)\n",
      "├── DOB (Name)\n",
      "└── FROM\n",
      "    ├── Employee (Name)\n",
      "    └── WHERE\n",
      "        ├── LName (Name)\n",
      "        ├── = (Name)\n",
      "        ├── \"Aquarius\" (Name)\n",
      "        ├── and (Name)\n",
      "        ├── City (Name)\n",
      "        ├── = (Name)\n",
      "        └── NYC (Name)\n"
     ]
    }
   ],
   "source": [
    "sql_statement = '''SELECT LName, FName, DOB FROM Employee WHERE LName = \"Aquarius\" and City = NYC'''\n",
    "tree = generate_non_optimized_query_execution_plan(sql_statement)\n",
    "for pre, fill, node in tree:\n",
    "    print(f\"{pre}{node.name}\")"
   ]
  },
  {
   "cell_type": "markdown",
   "id": "2060c39a",
   "metadata": {},
   "source": [
    "# Now optimize and parse queries"
   ]
  },
  {
   "cell_type": "code",
   "execution_count": 6,
   "id": "7881a976",
   "metadata": {},
   "outputs": [],
   "source": [
    "def optimize_and_parse_query(query):\n",
    "    # Remove the STARTDATE <= ENDDATE condition from the WHERE clause\n",
    "    parsed_query = sqlparse.parse(query)[0]\n",
    "    where_clause = None\n",
    "    for token in parsed_query.tokens:\n",
    "        if isinstance(token, sqlparse.sql.Where):\n",
    "            where_clause = token\n",
    "            break\n",
    "\n",
    "    if where_clause:\n",
    "        where_str = str(where_clause)\n",
    "        where_str = where_str.replace(\"AND STARTDATE <= ENDDATE\", \"\")\n",
    "        where_clause = sqlparse.parse(where_str)[0]\n",
    "        parsed_query.tokens = [t for t in parsed_query.tokens if not isinstance(t, sqlparse.sql.Where)]\n",
    "        if where_clause:\n",
    "            parsed_query.tokens.insert(-1, where_clause)\n",
    "\n",
    "    select_clause = None\n",
    "    for token in parsed_query.tokens:\n",
    "        if isinstance(token, sqlparse.sql.TokenList):\n",
    "            for subtoken in token.tokens:\n",
    "                if isinstance(subtoken, sqlparse.sql.Identifier):\n",
    "                    if subtoken.value.upper() == 'DOB':\n",
    "                        token.tokens.remove(subtoken)\n",
    "                        break\n",
    "            select_clause = token\n",
    "            break\n",
    "\n",
    "    # Parse the optimized query and create a dictionary to store the query tree\n",
    "    query_tree = {'type': parsed_query.get_type(), 'value': str(parsed_query)}\n",
    "\n",
    "    # Add the SELECT clause to the tree\n",
    "    if select_clause:\n",
    "        query_tree['select'] = [subtoken.value for subtoken in select_clause.tokens if isinstance(subtoken, sqlparse.sql.Identifier)]\n",
    "\n",
    "    # Add the FROM clause to the tree\n",
    "    for token in parsed_query.tokens:\n",
    "        if isinstance(token, sqlparse.sql.IdentifierList):\n",
    "            query_tree['from '] = [subtoken.value for subtoken in token.tokens if isinstance(subtoken, sqlparse.sql.Identifier)]\n",
    "\n",
    "    # Add the WHERE clause to the tree\n",
    "    for token in parsed_query.tokens:\n",
    "        if isinstance(token, sqlparse.sql.Where):\n",
    "            query_tree['where '] = []\n",
    "            for where_token in token.tokens:\n",
    "                if isinstance(where_token, sqlparse.sql.Comparison):\n",
    "                    query_tree['where '].append({'left': where_token.left.value, 'operator': where_token.normalized, 'right': where_token.right.value})\n",
    "\n",
    "    # Return the query tree\n",
    "    return query_tree\n"
   ]
  },
  {
   "cell_type": "markdown",
   "id": "dc1ad1b4",
   "metadata": {},
   "source": [
    "# Example 1:"
   ]
  },
  {
   "cell_type": "code",
   "execution_count": 7,
   "id": "24ea6e40",
   "metadata": {},
   "outputs": [
    {
     "name": "stdout",
     "output_type": "stream",
     "text": [
      "{'from ': ['EMPLOYEE E', 'JOBHISTORY J'],\n",
      " 'select': ['EMPLOYEE.EMPNO'],\n",
      " 'type': 'SELECT',\n",
      " 'value': 'SELECT EMPLOYEE.EMPNO, POSITION FROM EMPLOYEE E, JOBHISTORY JWHERE '\n",
      "          'E.EMPNO = J.EMPNO  AND SALARY <= 3000 '}\n"
     ]
    }
   ],
   "source": [
    "query = \"SELECT EMPLOYEE.EMPNO, POSITION FROM EMPLOYEE E, JOBHISTORY J WHERE E.EMPNO = J.EMPNO AND STARTDATE <= ENDDATE AND SALARY <= 3000\"\n",
    "optimized_query = optimize_and_parse_query(query)\n",
    "pprint(optimized_query)"
   ]
  },
  {
   "cell_type": "markdown",
   "id": "0f51ae00",
   "metadata": {},
   "source": [
    "# Example 2: "
   ]
  },
  {
   "cell_type": "code",
   "execution_count": 16,
   "id": "dace7282",
   "metadata": {},
   "outputs": [
    {
     "name": "stdout",
     "output_type": "stream",
     "text": [
      "{'from ': ['LName', 'FName'],\n",
      " 'select': ['LName', 'FName'],\n",
      " 'type': 'SELECT',\n",
      " 'value': 'SELECT LName, FName,  FROM EmployeeWHERE LName = \"Aquarius\" and '\n",
      "          'City = \"NYC\" '}\n"
     ]
    }
   ],
   "source": [
    "query = '''SELECT LName, FName, DOB FROM Employee WHERE LName = \"Aquarius\" and City = \"NYC\"'''\n",
    "optimized_query = optimize_and_parse_query(query)\n",
    "pprint(optimized_query)"
   ]
  },
  {
   "cell_type": "markdown",
   "id": "b04273fd",
   "metadata": {},
   "source": [
    "# Example 3:"
   ]
  },
  {
   "cell_type": "code",
   "execution_count": 9,
   "id": "cfd87ffb",
   "metadata": {},
   "outputs": [
    {
     "name": "stdout",
     "output_type": "stream",
     "text": [
      "{'from ': ['first_name', 'last_name'],\n",
      " 'select': ['first_name', 'last_name'],\n",
      " 'type': 'SELECT',\n",
      " 'value': 'SELECT first_name, last_name FROM employeesWHERE department = '\n",
      "          \"'Sales' AND salary > 50000  \"}\n"
     ]
    }
   ],
   "source": [
    "query = \"SELECT first_name, last_name FROM employees WHERE department = 'Sales' AND salary > 50000 AND STARTDATE <= ENDDATE\"\n",
    "optimized_query = optimize_and_parse_query(query)\n",
    "pprint(optimized_query)"
   ]
  },
  {
   "cell_type": "code",
   "execution_count": 17,
   "id": "cc502bd2",
   "metadata": {},
   "outputs": [],
   "source": [
    "def generate_optimized_query_execution_plan(sql_statement): \n",
    "    #parse through the SQL statement\n",
    "    parsed_sql = sqlparse.parse(sql_statement)[0]\n",
    "    \n",
    "    #define a list of keywords in the order of their execution\n",
    "    keyword_order = ['SELECT', 'FROM', 'WHERE']\n",
    "    \n",
    "    #initialize a list to hold the SQL operations\n",
    "    operations = {}\n",
    "    \n",
    "    #Split the SQL statement into tokens \n",
    "    tokens = sql_statement.split()\n",
    "    \n",
    "    \n",
    "#     #iterate over the tokens in the parsed SQL\n",
    "#     for item in parsed_sql.tokens:\n",
    "#         # if the token is a keyword, add it to the operations list\n",
    "#         if item.ttype is not None and item.value.upper() in keyword_order:\n",
    "#             operation_type = item.value.strip()\n",
    "#             operations[operation_type] = Node(operation_type)\n",
    "            \n",
    "#             #Set the parent of the operation node to the previous operation\n",
    "#             if len(operations) > 1:\n",
    "#                 prev_operation_type = list(operations.keys())[-2]\n",
    "#                 operations[operation_type].parent = operations[prev_operation_type]\n",
    "#     #iterate over the tokens again to add the remaining operations to the dictionary\n",
    "#     for item in parsed_sql.tokens:\n",
    "#         if item.ttype is not None and item.value.upper() not in keyword_order:\n",
    "#             node_value = item.value.strip()\n",
    "#             node_type = item.ttype[0]\n",
    "#             node = Node(f\"{node_value} ({node_type})\", parent=operations[list(operations.keys())[-1]])\n",
    "    \n",
    "    \n",
    "    #Iterate over the tokens in the parsed SQL\n",
    "    for item in tokens:\n",
    "        #If the token is a keyword, add it operations dictionary\n",
    "        if item.upper() in keyword_order:\n",
    "            operation_type = item.strip()\n",
    "            operations[operation_type] = Node(operation_type)\n",
    "            \n",
    "            #Set the parent of the operation node to the previous operation\n",
    "            if len(operations) > 1:\n",
    "                prev_operation_type = list(operations.keys())[-2]\n",
    "                operations[operation_type].parent = operations[prev_operation_type]\n",
    "        \n",
    "        #if the token is not a keyword, add it as a child of the last operation\n",
    "        else:\n",
    "            node_value = item.strip()\n",
    "            node_type = \"Name\"\n",
    "            node = Node(f\"{node_value} ({node_type})\", parent=operations[list(operations.keys())[-1]])\n",
    "            \n",
    "    #return the tree\n",
    "    return RenderTree(operations['SELECT'])"
   ]
  },
  {
   "cell_type": "markdown",
   "id": "5ef88479",
   "metadata": {},
   "source": [
    "# Example 1: Optimized Execution Plan"
   ]
  },
  {
   "cell_type": "code",
   "execution_count": 18,
   "id": "2b786565",
   "metadata": {},
   "outputs": [
    {
     "name": "stdout",
     "output_type": "stream",
     "text": [
      "SELECT\n",
      "├── EMPLOYEE.EMPNO, (Name)\n",
      "├── POSITION (Name)\n",
      "└── FROM\n",
      "    ├── EMPLOYEE (Name)\n",
      "    ├── E, (Name)\n",
      "    ├── JOBHISTORY (Name)\n",
      "    ├── J (Name)\n",
      "    └── WHERE\n",
      "        ├── E.EMPNO (Name)\n",
      "        ├── = (Name)\n",
      "        ├── J.EMPNO (Name)\n",
      "        ├── AND (Name)\n",
      "        ├── SALARY (Name)\n",
      "        ├── <= (Name)\n",
      "        └── 3000 (Name)\n"
     ]
    }
   ],
   "source": [
    "optimized_query = \"SELECT EMPLOYEE.EMPNO, POSITION FROM EMPLOYEE E, JOBHISTORY J WHERE E.EMPNO = J.EMPNO AND SALARY <= 3000\"\n",
    "tree = generate_optimized_query_execution_plan(optimized_query)\n",
    "for pre, fill, node in tree:\n",
    "    print(f\"{pre}{node.name}\")"
   ]
  },
  {
   "cell_type": "markdown",
   "id": "e00f67b5",
   "metadata": {},
   "source": [
    "# Example 2: Optimized Execution Plan"
   ]
  },
  {
   "cell_type": "code",
   "execution_count": 19,
   "id": "58bef875",
   "metadata": {},
   "outputs": [
    {
     "name": "stdout",
     "output_type": "stream",
     "text": [
      "SELECT\n",
      "├── LName, (Name)\n",
      "├── FName (Name)\n",
      "└── FROM\n",
      "    ├── Employee (Name)\n",
      "    └── WHERE\n",
      "        ├── LName (Name)\n",
      "        ├── = (Name)\n",
      "        └── \"Aquarius\" (Name)\n"
     ]
    }
   ],
   "source": [
    "sql_statement = '''SELECT LName, FName FROM Employee WHERE LName = \"Aquarius\"'''\n",
    "tree = generate_optimized_query_execution_plan(sql_statement)\n",
    "for pre, fill, node in tree:\n",
    "    print(f\"{pre}{node.name}\")"
   ]
  },
  {
   "cell_type": "markdown",
   "id": "44b4c4fa",
   "metadata": {},
   "source": [
    "# Example 3: Optimized Execution Plan"
   ]
  },
  {
   "cell_type": "code",
   "execution_count": 20,
   "id": "00074349",
   "metadata": {},
   "outputs": [
    {
     "name": "stdout",
     "output_type": "stream",
     "text": [
      "SELECT\n",
      "├── first_name, (Name)\n",
      "├── last_name (Name)\n",
      "└── FROM\n",
      "    ├── employees (Name)\n",
      "    └── WHERE\n",
      "        ├── department (Name)\n",
      "        ├── = (Name)\n",
      "        ├── 'Sales' (Name)\n",
      "        ├── AND (Name)\n",
      "        ├── salary (Name)\n",
      "        ├── > (Name)\n",
      "        └── 50000 (Name)\n"
     ]
    }
   ],
   "source": [
    "sql_statement = \"SELECT first_name, last_name FROM employees WHERE department = 'Sales' AND salary > 50000\"\n",
    "tree = generate_optimized_query_execution_plan(sql_statement)\n",
    "for pre, fill, node in tree:\n",
    "    print(f\"{pre}{node.name}\")"
   ]
  },
  {
   "cell_type": "markdown",
   "id": "1e4e1c82",
   "metadata": {},
   "source": [
    "# Now building the Graphical User Interface And a Better Optimized Query Function"
   ]
  },
  {
   "cell_type": "code",
   "execution_count": 21,
   "id": "6f3b12b8",
   "metadata": {},
   "outputs": [],
   "source": [
    "def optimize_query(query):\n",
    "    # Parse the query into a parse tree using sqlparse\n",
    "    parsed = sqlparse.parse(query)[0]\n",
    "    \n",
    "    # Get the WHERE clause\n",
    "    where_clause = None\n",
    "    for token in parsed.tokens:\n",
    "        if isinstance(token, sqlparse.sql.Where):\n",
    "            where_clause = token\n",
    "            break\n",
    "\n",
    "    # Remove the STARTDATE <= ENDDATE condition from the WHERE clause\n",
    "    if where_clause:\n",
    "        where_str = str(where_clause)\n",
    "        where_str = where_str.replace(\"AND STARTDATE <= ENDDATE\", \"\")\n",
    "        where_clause = sqlparse.parse(where_str)[0]\n",
    "    \n",
    "    # Remove \"DOB\" from the SELECT clause\n",
    "    select_clause = None\n",
    "    for token in parsed.tokens:\n",
    "        if isinstance(token, sqlparse.sql.TokenList):\n",
    "            for subtoken in token.tokens:\n",
    "                if isinstance(subtoken, sqlparse.sql.Identifier):\n",
    "                    if subtoken.value.upper() == 'DOB':\n",
    "                        token.tokens.remove(subtoken)\n",
    "                        break\n",
    "            select_clause = token\n",
    "            break\n",
    "    \n",
    "    # Remove all city conditions from the WHERE clause\n",
    "#     if where_clause:\n",
    "#         where_tokens = where_clause.tokens\n",
    "#         new_tokens = []\n",
    "#         skip_next = False\n",
    "#         for i, token in enumerate(where_tokens):\n",
    "#             if skip_next:\n",
    "#                 skip_next = False\n",
    "#                 continue\n",
    "#             if str(token).lower() == 'city':\n",
    "#                 j = i + 2\n",
    "#                 while j < len(where_tokens) and str(where_tokens[j]).lower() != 'and':\n",
    "#                     j += 1\n",
    "#                 skip_next = True\n",
    "#             else:\n",
    "#                 new_tokens.append(token)\n",
    "#         where_clause = sqlparse.sql.Where(new_tokens)\n",
    " # Remove all city conditions from the WHERE clause\n",
    "    if where_clause:\n",
    "        where_str = str(where_clause)\n",
    "        where_str = re.sub(r\"and City = [A-Za-z\\s]+\", \"\", where_str)\n",
    "        where_clause = sqlparse.parse(where_str)[0]\n",
    "\n",
    "        \n",
    "    \n",
    "    # Recreate the optimized query\n",
    "    parsed.tokens = [t for t in parsed.tokens if not isinstance(t, sqlparse.sql.Where)]\n",
    "    if where_clause:\n",
    "        parsed.tokens.insert(-1, where_clause)\n",
    "    optimized_query = str(parsed)\n",
    "    return optimized_query\n"
   ]
  },
  {
   "cell_type": "code",
   "execution_count": 22,
   "id": "32d483f0",
   "metadata": {
    "scrolled": false
   },
   "outputs": [],
   "source": [
    "def on_optimize_query_click():\n",
    "    #Get the input query from the text box\n",
    "    query = input_text.get('1.0', 'end-1c')\n",
    "    \n",
    "    #Optimize the query using the optimize_query function\n",
    "    optimized_query = optimize_query(query)\n",
    "    optimized_query_tree = generate_optimized_query_execution_plan(optimized_query)\n",
    "    \n",
    "    # Display the optimized query in the output text box\n",
    "    output_text.delete('1.0', tk.END)\n",
    "    output_text.insert('1.0', optimized_query)\n",
    "\n",
    "    # Display the query execution plan in the second output text box\n",
    "    output_text_tree.delete('1.0', tk.END)\n",
    "    output_text_tree.insert('1.0', optimized_query_tree)\n",
    "    \n",
    "#Create the main window\n",
    "root = tk.Tk()\n",
    "root.title('SQL Statement Query Optimizer')\n",
    "\n",
    "# Create the input text box\n",
    "input_text = tk.Text(root, height = 10, width = 70)\n",
    "input_text.pack(side = tk.TOP, padx = 10, pady = 10)\n",
    "\n",
    "# Create the output text box for optimized query\n",
    "output_text = tk.Text(root, height = 10, width = 150)\n",
    "output_text.pack(side = tk.TOP, padx = 10, pady = 10)\n",
    "\n",
    "# Create the output text box for query tree\n",
    "output_text_tree = tk.Text(root, height = 10, width = 150)\n",
    "output_text_tree.pack(side = tk.TOP, padx = 10, pady = 10)\n",
    "\n",
    "#create the optimize query button\n",
    "optimize_button = tk.Button(root, text = 'Optimize Query', command = on_optimize_query_click)\n",
    "optimize_button.pack(side = tk.TOP, padx = 10, pady = 10)\n",
    "\n",
    "#Start the main event loop\n",
    "root.mainloop()\n"
   ]
  },
  {
   "cell_type": "code",
   "execution_count": null,
   "id": "25bf104c",
   "metadata": {},
   "outputs": [],
   "source": []
  }
 ],
 "metadata": {
  "kernelspec": {
   "display_name": "Python 3",
   "language": "python",
   "name": "python3"
  },
  "language_info": {
   "codemirror_mode": {
    "name": "ipython",
    "version": 3
   },
   "file_extension": ".py",
   "mimetype": "text/x-python",
   "name": "python",
   "nbconvert_exporter": "python",
   "pygments_lexer": "ipython3",
   "version": "3.8.8"
  }
 },
 "nbformat": 4,
 "nbformat_minor": 5
}
